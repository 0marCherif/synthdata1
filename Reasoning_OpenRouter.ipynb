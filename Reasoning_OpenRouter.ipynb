{
 "cells": [
  {
   "cell_type": "code",
   "execution_count": null,
   "id": "21c6390b",
   "metadata": {},
   "outputs": [],
   "source": [
    "!pip install torch transformers\n",
    "!pip install -U datasets\n",
    "!git clone https://github.com/davidjurgens/citation-function"
   ]
  },
  {
   "cell_type": "code",
   "execution_count": 2,
   "id": "7a64f6e7",
   "metadata": {},
   "outputs": [],
   "source": [
    "import os\n",
    "with open('api_openrouter.txt', 'r') as f:\n",
    "  API=f.read()\n"
   ]
  },
  {
   "cell_type": "code",
   "execution_count": null,
   "id": "0f63a266",
   "metadata": {},
   "outputs": [],
   "source": [
    "from datasets import load_dataset\n",
    "ds = load_dataset(\"hrithikpiyush/acl-arc\")\n",
    "ds.set_format(\"pandas\")\n",
    "train=ds[\"train\"][:]\n",
    "validation=ds[\"validation\"][:]\n",
    "test=ds[\"test\"][:]"
   ]
  },
  {
   "cell_type": "code",
   "execution_count": null,
   "id": "3a965f12",
   "metadata": {},
   "outputs": [],
   "source": [
    "for text,intent in zip(test['text'],test['intent']):\n",
    "    print('You are an expert in scientometry, your role is to classify the intent of a citation in a scientific paper. The possible intents are: Background, Uses, Extends, Motivation, CompareOrContrast, Future, Other. Given the text of the citation, classify the intent of the citation into one of these categories.Think as much as you want, but answer only with the associated number:'\n",
    "            + 'From the following list: 0:BACKGROUND \\n 1:USES, 2:COMPARES OR CONTRASTS, 3:MOTIVATION, 4:CONTINUATION, 5:FUTURE\\n')\n",
    "    print(text+'\\n\\n')"
   ]
  },
  {
   "cell_type": "code",
   "execution_count": 6,
   "id": "98977e9b",
   "metadata": {},
   "outputs": [],
   "source": [
    "dico_rez={\n",
    "    0:[],\n",
    "    1:[],\n",
    "    2:[],\n",
    "    3:[],\n",
    "    4:[],\n",
    "    5:[],\n",
    "}"
   ]
  },
  {
   "cell_type": "code",
   "execution_count": 7,
   "id": "5f253d3f",
   "metadata": {},
   "outputs": [],
   "source": [
    "PROMPT=(\"\"\"You are an expert in scientometry, your role is to classify the intent of a citation in a scientific paper. The possible intents are: Background, Uses, Extends, Motivation, CompareOrContrast, Future, Other. Given the text of the citation, classify the intent of the citation into one of these categories.Think as much as you want, but answer only with the associated number:\n",
    "          \"BACKGROUND\":\"to provide relevant information for this domain (BACKGROUND).\",\n",
    "          \"MOTIVATION\":\"to illustrate need for data, goals, methods, etc.(MOTIVATION)\",\n",
    "          \"USES\":\" to use data, methods, etc from the citation. (USES) \",  \n",
    "          \"CONTINUATION\":\"to extend the citation's data, methods, etc. (CONTINUATION)\",\n",
    "          \"COMPARES OR CONTRASTS\":\"to express similarity/differences to the citation (COMPARES OR CONTRASTS)\",\n",
    "          \"FUTURE\": \"to be a potential avenue for future work (FUTURE)\"\n",
    "          \n",
    "          ANSWER WITH THE CORRECT ASSOCIATED NUMBER: 0:BACKGROUND \\n 1:USES \\n 2:COMPARES OR CONTRASTS \\n 3:MOTIVATION \\n 4:CONTINUATION \\n 5:FUTURE\\n\"\"\"+ text+'\\n\\n')"
   ]
  },
  {
   "cell_type": "code",
   "execution_count": null,
   "id": "4da5718d",
   "metadata": {},
   "outputs": [],
   "source": [
    "import requests\n",
    "import json\n",
    "import os\n",
    "\n",
    "les_rez=[]\n",
    "dico_rez={0:[],1:[],2:[],3:[],4:[],5:[]}\n",
    "\n",
    "url = \"https://openrouter.ai/api/v1/chat/completions\"\n",
    "\n",
    "\n",
    "headers = {\n",
    "  \"Authorization\": f\"Bearer {API}\",\n",
    "  \"Content-Type\": \"application/json\"\n",
    "}\n",
    "\n",
    "\n",
    "for text,intent in zip(test['cleaned_cite_text'],test['intent']):\n",
    "  PROMPT=(\"\"\"You are an expert in scientometry, your role is to classify the intent of a citation in a scientific paper. The possible intents are: Background, Uses, Extends, Motivation, CompareOrContrast, Future, Other. Given the text of the citation, classify the intent of the citation @@CITATION into one of these categories.Think as much as you want, in the end answer only with the associated number:\n",
    "          \"BACKGROUND\":\"to provide relevant information for this domain (BACKGROUND).\",\n",
    "          \"MOTIVATION\":\"to illustrate need for data, goals, methods, etc.(MOTIVATION)\",\n",
    "          \"USES\":\" to use data, methods, etc from the citation. (USES) \",  \n",
    "          \"CONTINUATION\":\"to extend the citation's data, methods, etc. (CONTINUATION)\",\n",
    "          \"COMPARES OR CONTRASTS\":\"to express similarity/differences to the citation (COMPARES OR CONTRASTS)\",\n",
    "          \"FUTURE\": \"to be a potential avenue for future work (FUTURE)\"\n",
    "          Please reason step by step, and put your final answer within \\\\boxed{} \\\\n\"\"\"+ text+'\\n\\n')\n",
    "  try:\n",
    "    payload = {\n",
    "        \"model\": \"deepseek/deepseek-r1-0528\",\n",
    "      \"messages\": [\n",
    "        {\n",
    "          \"role\": \"user\",\n",
    "          \"content\": PROMPT\n",
    "        }\n",
    "      ]\n",
    "        ,\n",
    "    #   \"provider\": {\n",
    "    #     \"allow_fallbacks\": True,\n",
    "    #     \"quantizations\": [\n",
    "    #       \"fp8\"\n",
    "    #     ]\n",
    "    # },\n",
    "        \"reasoning\": {\n",
    "\n",
    "      \"enabled\": True  # Use high reasoning effort\n",
    "\n",
    "  }\n",
    "    }\n",
    "    response = requests.post(url, headers=headers, json=payload)\n",
    "    les_rez.append(response.json())\n",
    "    dico_rez[int(intent)].append(response.json())\n",
    "  except:\n",
    "    print(\"error\")\n",
    "    les_rez.append('error '+text)\n",
    "    continue\n",
    "  print(response.json())"
   ]
  },
  {
   "cell_type": "code",
   "execution_count": 12,
   "id": "9583ddf6",
   "metadata": {},
   "outputs": [
    {
     "data": {
      "text/plain": [
       "137"
      ]
     },
     "execution_count": 12,
     "metadata": {},
     "output_type": "execute_result"
    }
   ],
   "source": [
    "len(les_rez)"
   ]
  },
  {
   "cell_type": "code",
   "execution_count": 25,
   "id": "89f7ccb5",
   "metadata": {},
   "outputs": [],
   "source": [
    "BACKUP=les_rez.copy()"
   ]
  },
  {
   "cell_type": "code",
   "execution_count": 33,
   "id": "f0317add",
   "metadata": {},
   "outputs": [
    {
     "data": {
      "text/plain": [
       "'error'"
      ]
     },
     "execution_count": 33,
     "metadata": {},
     "output_type": "execute_result"
    }
   ],
   "source": [
    "les_rez[107]"
   ]
  },
  {
   "cell_type": "code",
   "execution_count": 31,
   "id": "ddb562f1",
   "metadata": {},
   "outputs": [],
   "source": [
    "les_rez.insert(107,'error')"
   ]
  },
  {
   "cell_type": "code",
   "execution_count": null,
   "id": "6f2d8ccb",
   "metadata": {},
   "outputs": [],
   "source": [
    "les_rez[105]['id']"
   ]
  },
  {
   "cell_type": "code",
   "execution_count": 23,
   "id": "61e1f002",
   "metadata": {},
   "outputs": [
    {
     "data": {
      "text/plain": [
       "'error'"
      ]
     },
     "execution_count": 23,
     "metadata": {},
     "output_type": "execute_result"
    }
   ],
   "source": [
    "les_rez[106]"
   ]
  },
  {
   "cell_type": "code",
   "execution_count": 21,
   "id": "b6221ffe",
   "metadata": {},
   "outputs": [
    {
     "name": "stdout",
     "output_type": "stream",
     "text": [
      "106\n"
     ]
    }
   ],
   "source": [
    "for i in range(0,len(les_rez)):\n",
    "    try:\n",
    "        if les_rez[i]['id'] == 'gen-1760362894-5kkXe3tlsxqDLVU3OAGV':\n",
    "            print(i)\n",
    "    except:\n",
    "        pass"
   ]
  },
  {
   "cell_type": "code",
   "execution_count": 34,
   "id": "fa6cb59e",
   "metadata": {},
   "outputs": [],
   "source": [
    "with open(f'DATASET10/results.txt', 'a+',encoding='utf-8') as f:\n",
    "    for elt in les_rez:\n",
    "        try:\n",
    "            f.write(elt['choices'][0]['message']['content'] + '\\n\\n')\n",
    "        except:\n",
    "            f.write('error')\n",
    "\n",
    "#dump the json from les_rez\n",
    "with open(f'DATASET10/results.json', 'w+',encoding='utf-8') as f:\n",
    "    json.dump(les_rez, f, ensure_ascii=False, indent=4)\n"
   ]
  },
  {
   "cell_type": "code",
   "execution_count": null,
   "id": "69698161",
   "metadata": {},
   "outputs": [],
   "source": [
    "for i in range(0,6):\n",
    "    for elt in dico_rez[i]:\n",
    "        with open(f'DATASET7/results_openrouter_intent_{i}.txt', 'a+',encoding='utf-8') as f:\n",
    "            f.write(elt['choices'][0]['message']['content'] + '\\n\\n')"
   ]
  },
  {
   "cell_type": "code",
   "execution_count": 7,
   "id": "6cde431f",
   "metadata": {},
   "outputs": [],
   "source": [
    "with open(\"DATASET7/dico.json\", \"w+\", encoding=\"utf-8\") as f:\n",
    "    json.dump(dico_rez, f, ensure_ascii=False, indent=4)"
   ]
  },
  {
   "cell_type": "code",
   "execution_count": null,
   "id": "373b8d97",
   "metadata": {},
   "outputs": [],
   "source": []
  }
 ],
 "metadata": {
  "kernelspec": {
   "display_name": ".venv",
   "language": "python",
   "name": "python3"
  },
  "language_info": {
   "codemirror_mode": {
    "name": "ipython",
    "version": 3
   },
   "file_extension": ".py",
   "mimetype": "text/x-python",
   "name": "python",
   "nbconvert_exporter": "python",
   "pygments_lexer": "ipython3",
   "version": "3.12.5"
  }
 },
 "nbformat": 4,
 "nbformat_minor": 5
}
