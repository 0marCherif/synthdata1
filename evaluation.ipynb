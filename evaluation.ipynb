{
 "cells": [
  {
   "cell_type": "code",
   "execution_count": null,
   "id": "1d3a0c6f",
   "metadata": {},
   "outputs": [],
   "source": [
    "!pip install pandas\n",
    "!pip install sentence-transformers\n",
    "!pip install accelerate\n",
    "!pip install -U bitsandbytes\n",
    "!pip install datasets"
   ]
  },
  {
   "cell_type": "code",
   "execution_count": 2,
   "id": "8ff95e8c",
   "metadata": {},
   "outputs": [],
   "source": [
    "# File paths\n",
    "input_file = \"DATASET6/final.csv\"\n",
    "output_file = \"DATASET6/final_with_header.csv\"\n",
    "\n",
    "# Your header as a string, comma-separated\n",
    "header = \"label,text\"\n",
    "\n",
    "# Open the original file for reading, and a new file for writing\n",
    "with open(input_file, 'r', encoding='utf-8') as f_in, open(output_file, 'w', encoding='utf-8') as f_out:\n",
    "    f_out.write(header + '\\n')  # Write header first\n",
    "    for line in f_in:            # Copy rest of the file line by line\n",
    "        f_out.write(line)\n"
   ]
  },
  {
   "cell_type": "code",
   "execution_count": 20,
   "id": "4083c83d",
   "metadata": {},
   "outputs": [],
   "source": [
    "import pandas as pd\n",
    "df = pd.read_csv('DATASET6/final_with_header.csv')\n",
    "laliste=[]\n",
    "laliste_labels=[]\n",
    "for elt in df['label']:\n",
    "    laliste_labels.append(elt)\n",
    "for elt in df['text']:\n",
    "    laliste.append(elt)"
   ]
  },
  {
   "cell_type": "code",
   "execution_count": 38,
   "id": "9a91d653",
   "metadata": {},
   "outputs": [],
   "source": [
    "def equal_distribution(data,labels, amount):\n",
    "    new_dataset={}\n",
    "    label_counter={}\n",
    "    for label in labels:\n",
    "        label_counter[label]=0\n",
    "        new_dataset[label]=[]\n",
    "    for label,text in zip(labels,data):\n",
    "        if label_counter[label]<amount:\n",
    "            new_dataset[label].append(text)\n",
    "            label_counter[label]+=1\n",
    "    return new_dataset\n"
   ]
  },
  {
   "cell_type": "code",
   "execution_count": 39,
   "id": "0125654c",
   "metadata": {},
   "outputs": [],
   "source": [
    "new_dataset=equal_distribution(laliste,laliste_labels,10)"
   ]
  },
  {
   "cell_type": "code",
   "execution_count": 47,
   "id": "cdab9fdc",
   "metadata": {},
   "outputs": [
    {
     "data": {
      "text/plain": [
       "10"
      ]
     },
     "execution_count": 47,
     "metadata": {},
     "output_type": "execute_result"
    }
   ],
   "source": [
    "len(new_dataset[5])"
   ]
  },
  {
   "cell_type": "code",
   "execution_count": null,
   "id": "276522f0",
   "metadata": {},
   "outputs": [],
   "source": [
    "from sentence_transformers import SentenceTransformer\n",
    "import torch\n",
    "\n",
    "# Define arguments for 4-bit quantization\n",
    "model_kwargs = {\n",
    "    \"device_map\": \"auto\",         # Automatically map layers to devices (GPU/CPU)\n",
    "    \"torch_dtype\": torch.bfloat16,  # Recommended dtype for Qwen models\n",
    "    \"load_in_4bit\": True,           # Enable 4-bit quantization\n",
    "}\n",
    "\n",
    "# The model card also recommends enabling flash_attention_2 for better performance\n",
    "# You may need to install it: pip install flash-attn\n",
    "# Set use_flash_attention_2=True if available\n",
    "embedding_model = SentenceTransformer(\n",
    "    \"Qwen/Qwen3-Embedding-8B\",\n",
    "    model_kwargs=model_kwargs,\n",
    "    trust_remote_code=True, # Often required for custom model architectures\n",
    "    # use_flash_attention_2=True, # Uncomment if flash-attn is installed\n",
    ")"
   ]
  },
  {
   "cell_type": "code",
   "execution_count": 7,
   "id": "bbaad358",
   "metadata": {},
   "outputs": [
    {
     "name": "stderr",
     "output_type": "stream",
     "text": [
      "Generating train split: 100%|██████████| 1688/1688 [00:00<00:00, 7321.51 examples/s]\n",
      "Generating validation split: 100%|██████████| 114/114 [00:00<00:00, 4471.46 examples/s]\n",
      "Generating test split: 100%|██████████| 139/139 [00:00<00:00, 5956.48 examples/s]\n"
     ]
    }
   ],
   "source": [
    "from datasets import load_dataset\n",
    "ds = load_dataset(\"hrithikpiyush/acl-arc\")\n",
    "ds.set_format(\"pandas\")\n",
    "train=ds[\"train\"][:]\n",
    "validation=ds[\"validation\"][:]\n",
    "test=ds[\"test\"][:]"
   ]
  },
  {
   "cell_type": "code",
   "execution_count": null,
   "id": "c916f308",
   "metadata": {},
   "outputs": [],
   "source": [
    "laliste_labels=[]\n",
    "for elt in train['intent']:\n",
    "    laliste_labels.append(elt)"
   ]
  },
  {
   "cell_type": "code",
   "execution_count": 8,
   "id": "795b7525",
   "metadata": {},
   "outputs": [
    {
     "data": {
      "text/plain": [
       "10"
      ]
     },
     "execution_count": 8,
     "metadata": {},
     "output_type": "execute_result"
    }
   ],
   "source": [
    "documents = laliste[:10]\n",
    "\n",
    "len(documents)"
   ]
  },
  {
   "cell_type": "code",
   "execution_count": 12,
   "id": "78b6d64e",
   "metadata": {},
   "outputs": [],
   "source": [
    "documents = laliste\n",
    "\n",
    "synth_data = torch.from_numpy(embedding_model.encode(documents))"
   ]
  },
  {
   "cell_type": "code",
   "execution_count": 13,
   "id": "4cffd73c",
   "metadata": {},
   "outputs": [],
   "source": [
    "\n",
    "\n",
    "#synth_data = torch.from_numpy(embedding_model.encode(train['cleaned_cite_text'].tolist()))\n",
    "validation_data = torch.from_numpy(embedding_model.encode(validation['cleaned_cite_text'].tolist()))\n",
    "test_data = torch.from_numpy(embedding_model.encode(test['cleaned_cite_text'].tolist()))"
   ]
  },
  {
   "cell_type": "code",
   "execution_count": null,
   "id": "68601ba0",
   "metadata": {},
   "outputs": [],
   "source": [
    "import torch\n",
    "import torch.nn as nn\n",
    "\n",
    "class MLPClassifier(nn.Module):\n",
    "    def __init__(self, input_dim=4096, hidden_dim=128, num_classes=6):\n",
    "        super(MLPClassifier, self).__init__()\n",
    "        self.model = nn.Sequential(\n",
    "            nn.Linear(input_dim, hidden_dim),\n",
    "            nn.ReLU(),\n",
    "            nn.Linear(hidden_dim, hidden_dim),\n",
    "            nn.ReLU(),\n",
    "            nn.Linear(hidden_dim, num_classes)\n",
    "        )\n",
    "\n",
    "    def forward(self, x):\n",
    "        return self.model(x)\n",
    "mymodel = MLPClassifier()\n",
    "criterion = nn.CrossEntropyLoss()\n",
    "optimizer = torch.optim.Adam(mymodel.parameters(), lr=0.001)"
   ]
  },
  {
   "cell_type": "code",
   "execution_count": 16,
   "id": "35964f48",
   "metadata": {},
   "outputs": [],
   "source": [
    "from torch.utils.data import TensorDataset, DataLoader\n",
    "X_train = synth_data\n",
    "y_train = torch.tensor(laliste_labels)\n",
    "\n",
    "batch_size = 32\n",
    "train_dataset = TensorDataset(X_train, y_train)\n",
    "train_loader = DataLoader(dataset=train_dataset, batch_size=batch_size, shuffle=True)"
   ]
  },
  {
   "cell_type": "code",
   "execution_count": 17,
   "id": "0b17f67e",
   "metadata": {},
   "outputs": [],
   "source": [
    "num_epochs = 10\n",
    "\n",
    "for epoch in range(num_epochs):\n",
    "    for X_batch, y_batch in train_loader:\n",
    "        optimizer.zero_grad()           # ✅ Reset gradients from previous step\n",
    "        outputs = mymodel(X_batch)        # Forward pass\n",
    "        loss = criterion(outputs, y_batch)\n",
    "        loss.backward()                 # Compute gradients\n",
    "        optimizer.step()                # Update weights\n"
   ]
  },
  {
   "cell_type": "code",
   "execution_count": 18,
   "id": "cb675ab8",
   "metadata": {},
   "outputs": [],
   "source": [
    "from sklearn.metrics import classification_report\n",
    "with torch.no_grad():\n",
    "    validation_outputs = mymodel(validation_data)\n",
    "    test_outputs = mymodel(test_data)"
   ]
  },
  {
   "cell_type": "code",
   "execution_count": 19,
   "id": "2f1d07a3",
   "metadata": {},
   "outputs": [
    {
     "data": {
      "text/plain": [
       "tensor([1, 2, 1, 1, 1, 1, 1, 1, 4, 1, 1, 1, 1, 1, 1, 1, 3, 1, 1, 2, 1, 1, 1, 1,\n",
       "        1, 1, 1, 1, 1, 5, 3, 1, 1, 1, 1, 1, 1, 1, 1, 1, 3, 1, 1, 4, 2, 2, 1, 1,\n",
       "        1, 1, 1, 1, 2, 1, 1, 1, 3, 1, 1, 1, 1, 2, 1, 1, 1, 1, 2, 1, 1, 1, 1, 1,\n",
       "        2, 1, 1, 2, 4, 2, 1, 5, 1, 1, 0, 2, 1, 1, 1, 5, 1, 1, 1, 1, 1, 1, 1, 1,\n",
       "        1, 1, 1, 1, 2, 1, 5, 2, 1, 2, 5, 5, 5, 1, 1, 1, 1, 2])"
      ]
     },
     "execution_count": 19,
     "metadata": {},
     "output_type": "execute_result"
    }
   ],
   "source": [
    "torch.argmax(validation_outputs,axis=1)"
   ]
  },
  {
   "cell_type": "code",
   "execution_count": 20,
   "id": "23ced8ff",
   "metadata": {},
   "outputs": [
    {
     "name": "stdout",
     "output_type": "stream",
     "text": [
      "              precision    recall  f1-score   support\n",
      "\n",
      "           0       1.00      0.02      0.03        59\n",
      "           1       0.25      1.00      0.40        21\n",
      "           2       0.67      0.48      0.56        21\n",
      "           3       0.25      0.25      0.25         4\n",
      "           4       0.00      0.00      0.00         5\n",
      "           5       0.43      0.75      0.55         4\n",
      "\n",
      "    accuracy                           0.32       114\n",
      "   macro avg       0.43      0.42      0.30       114\n",
      "weighted avg       0.71      0.32      0.22       114\n",
      "\n"
     ]
    }
   ],
   "source": [
    "print(classification_report(validation['intent'], torch.argmax(validation_outputs, axis=1)))"
   ]
  },
  {
   "cell_type": "code",
   "execution_count": null,
   "id": "1e47bbf8",
   "metadata": {},
   "outputs": [],
   "source": []
  }
 ],
 "metadata": {
  "kernelspec": {
   "display_name": ".venv",
   "language": "python",
   "name": "python3"
  },
  "language_info": {
   "codemirror_mode": {
    "name": "ipython",
    "version": 3
   },
   "file_extension": ".py",
   "mimetype": "text/x-python",
   "name": "python",
   "nbconvert_exporter": "python",
   "pygments_lexer": "ipython3",
   "version": "3.12.5"
  }
 },
 "nbformat": 4,
 "nbformat_minor": 5
}
