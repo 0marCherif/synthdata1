{
 "cells": [
  {
   "cell_type": "code",
   "execution_count": 3,
   "id": "9091a50f",
   "metadata": {},
   "outputs": [
    {
     "name": "stdout",
     "output_type": "stream",
     "text": [
      "Requirement already satisfied: regex in c:\\users\\chrif\\downloads\\synthdata1\\.venv\\lib\\site-packages (2025.9.1)\n"
     ]
    }
   ],
   "source": [
    "!pip install regex"
   ]
  },
  {
   "cell_type": "code",
   "execution_count": 5,
   "id": "05b5665b",
   "metadata": {},
   "outputs": [],
   "source": [
    "import csv\n",
    "import re\n",
    "numero=0\n",
    "with open('results_openrouter_intent_'+str(numero)+'.txt', 'r') as f:\n",
    "    lines = [line.strip() for line in f]\n",
    "\n",
    "\n",
    "\n",
    "with open('final.csv', 'a') as f:\n",
    "    writer = csv.writer(f, quoting=csv.QUOTE_MINIMAL)\n",
    "    writer.writerow(['label', 'text'])  \n",
    "    for line in lines:\n",
    "        if(line!=\"\"):\n",
    "            writer.writerow([numero,re.sub(r'^\\d+\\.\\s*(?:[A-Z\\s]+:\\s*)?', '', line, flags=re.MULTILINE)])\n"
   ]
  },
  {
   "cell_type": "code",
   "execution_count": 6,
   "id": "0d9cadc6",
   "metadata": {},
   "outputs": [],
   "source": [
    "import csv\n",
    "import re\n",
    "\n",
    "with open('final2.csv', 'a', newline='', encoding='utf-8') as f:\n",
    "    writer = csv.writer(f, quoting=csv.QUOTE_MINIMAL)\n",
    "    writer.writerow(['label', 'text'])  \n",
    "    for line in lines:\n",
    "        if line and re.search(r'@@CITATION', line):\n",
    "            cleaned = re.sub(r'^\\d+\\.\\s*(?:[A-Z\\s]+:\\s*)?', '', line, flags=re.MULTILINE)\n",
    "            writer.writerow([numero, cleaned])\n"
   ]
  },
  {
   "cell_type": "code",
   "execution_count": 32,
   "id": "01935101",
   "metadata": {},
   "outputs": [
    {
     "data": {
      "text/plain": [
       "157"
      ]
     },
     "execution_count": 32,
     "metadata": {},
     "output_type": "execute_result"
    }
   ],
   "source": [
    "len(lines)"
   ]
  },
  {
   "cell_type": "code",
   "execution_count": 33,
   "id": "705da6cc",
   "metadata": {},
   "outputs": [
    {
     "data": {
      "text/plain": [
       "''"
      ]
     },
     "execution_count": 33,
     "metadata": {},
     "output_type": "execute_result"
    }
   ],
   "source": [
    "lines[i]"
   ]
  },
  {
   "cell_type": "code",
   "execution_count": 48,
   "id": "75601c1d",
   "metadata": {},
   "outputs": [
    {
     "name": "stdout",
     "output_type": "stream",
     "text": [
      "3.  Further research is needed to establish a robust ethical architecture for neurotechnologies that can protect cognitive liberty and mental privacy against the threat of what has been termed 'brain hacking' or neuromarketing ( @@CITATION ).\n",
      "Further research is needed to establish a robust ethical architecture for neurotechnologies that can protect cognitive liberty and mental privacy against the threat of what has been termed 'brain hacking' or neuromarketing ( @@CITATION ).\n"
     ]
    }
   ],
   "source": [
    "i=17\n",
    "print(lines[i])\n",
    "print(re.sub(r'^\\d+\\.\\s*(?:[A-Z\\s]+:\\s*)?', '', lines[i]))"
   ]
  },
  {
   "cell_type": "code",
   "execution_count": null,
   "id": "d610d406",
   "metadata": {},
   "outputs": [
    {
     "name": "stdout",
     "output_type": "stream",
     "text": [
      "Further research is needed to establish a robust ethical architecture for neurotechnologies that can protect cognitive liberty and mental privacy against the threat of what has been termed 'brain hacking' or neuromarketing ( @@CITATION ).\n"
     ]
    }
   ],
   "source": []
  },
  {
   "cell_type": "code",
   "execution_count": null,
   "id": "abac73bf",
   "metadata": {},
   "outputs": [],
   "source": []
  }
 ],
 "metadata": {
  "kernelspec": {
   "display_name": ".venv",
   "language": "python",
   "name": "python3"
  },
  "language_info": {
   "codemirror_mode": {
    "name": "ipython",
    "version": 3
   },
   "file_extension": ".py",
   "mimetype": "text/x-python",
   "name": "python",
   "nbconvert_exporter": "python",
   "pygments_lexer": "ipython3",
   "version": "3.12.5"
  }
 },
 "nbformat": 4,
 "nbformat_minor": 5
}
