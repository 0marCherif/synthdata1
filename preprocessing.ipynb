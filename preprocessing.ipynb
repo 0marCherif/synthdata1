{
 "cells": [
  {
   "cell_type": "code",
   "execution_count": 3,
   "id": "9091a50f",
   "metadata": {},
   "outputs": [
    {
     "name": "stdout",
     "output_type": "stream",
     "text": [
      "Requirement already satisfied: regex in c:\\users\\#ANONYMIZED\\downloads\\synthdata1\\.venv\\lib\\site-packages (2025.9.1)\n"
     ]
    }
   ],
   "source": [
    "!pip install regex"
   ]
  },
  {
   "cell_type": "code",
   "execution_count": 1,
   "id": "a1c81270",
   "metadata": {},
   "outputs": [],
   "source": [
    "import os\n",
    "numero_experience=11\n",
    "#créer dossier DATASET+numero_experience\n",
    "os.makedirs('DATASET'+str(numero_experience), exist_ok=True)"
   ]
  },
  {
   "cell_type": "code",
   "execution_count": 12,
   "id": "dcb23dec",
   "metadata": {},
   "outputs": [],
   "source": [
    "for numero in range(1,7):\n",
    "    with open('DATASET'+str(numero_experience)+'/results_openrouter_intent_'+str(numero)+'.txt', 'r',encoding=\"utf-8\",errors='replace') as f:\n",
    "        content = f.read()\n",
    "    \n",
    "    data = json.loads(content)\n",
    "    for element in data:\n",
    "        with open('DATASET'+str(numero_experience)+'/TEXT_results_openrouter_intent_'+str(numero)+'.txt', 'a+', encoding=\"utf-8\") as f:\n",
    "            try:\n",
    "                f.write(element[\"choices\"][0][\"message\"][\"content\"])\n",
    "            except:\n",
    "                continue"
   ]
  },
  {
   "cell_type": "code",
   "execution_count": 16,
   "id": "05b5665b",
   "metadata": {},
   "outputs": [],
   "source": [
    "import csv\n",
    "import re\n",
    "\n",
    "\n",
    "for numero in range(0,7):\n",
    "    try:\n",
    "        with open('DATASET'+str(numero_experience)+'/TEXT_results_openrouter_intent_'+str(numero)+'.txt', 'r',encoding=\"utf-8\",errors='replace') as f:\n",
    "            lines = [line.strip() for line in f]\n",
    "    except:\n",
    "        continue\n",
    "    with open('DATASET'+str(numero_experience)+'/final.csv', 'a+', newline='', encoding='utf-8',errors='replace') as f:\n",
    "        writer = csv.writer(f, quoting=csv.QUOTE_MINIMAL)\n",
    "        #writer.writerow(['label', 'text']) only first time  \n",
    "        for line in lines:\n",
    "            if line and re.search(r'@@CITATION', line):\n",
    "                cleaned = re.sub(r'^\\d+\\.\\s*(?:[A-Z\\s]+:\\s*)?', '', line, flags=re.MULTILINE)\n",
    "                writer.writerow([numero-1, cleaned])\n",
    "\n",
    "#il faut rajouter la colonne label et text tout en haut du fichier."
   ]
  },
  {
   "cell_type": "code",
   "execution_count": null,
   "id": "a36c6d0f",
   "metadata": {},
   "outputs": [],
   "source": []
  }
 ],
 "metadata": {
  "kernelspec": {
   "display_name": ".venv",
   "language": "python",
   "name": "python3"
  },
  "language_info": {
   "codemirror_mode": {
    "name": "ipython",
    "version": 3
   },
   "file_extension": ".py",
   "mimetype": "text/x-python",
   "name": "python",
   "nbconvert_exporter": "python",
   "pygments_lexer": "ipython3",
   "version": "3.12.5"
  }
 },
 "nbformat": 4,
 "nbformat_minor": 5
}
