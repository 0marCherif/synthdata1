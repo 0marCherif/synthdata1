{
 "cells": [
  {
   "cell_type": "code",
   "execution_count": null,
   "id": "253795e1",
   "metadata": {},
   "outputs": [],
   "source": [
    "!pip install bitsandbytes accelerate\n",
    "!pip install torch transformers\n",
    "!pip install -U datasets\n",
    "!pip install -U sentence-transformers"
   ]
  },
  {
   "cell_type": "code",
   "execution_count": 1,
   "id": "4083c83d",
   "metadata": {},
   "outputs": [],
   "source": [
    "import pandas as pd\n",
    "df = pd.read_csv('daset.csv')"
   ]
  },
  {
   "cell_type": "code",
   "execution_count": 25,
   "id": "43efbf47",
   "metadata": {},
   "outputs": [],
   "source": [
    "laliste=[]\n",
    "laliste_labels=[]\n",
    "for elt in df['label']:\n",
    "    laliste_labels.append(elt)\n",
    "for elt in df['text']:\n",
    "    laliste.append(elt)"
   ]
  },
  {
   "cell_type": "code",
   "execution_count": 3,
   "id": "276522f0",
   "metadata": {},
   "outputs": [
    {
     "name": "stderr",
     "output_type": "stream",
     "text": [
      "/home/ubuntu/synthdata1/.venv/lib/python3.10/site-packages/tqdm/auto.py:21: TqdmWarning: IProgress not found. Please update jupyter and ipywidgets. See https://ipywidgets.readthedocs.io/en/stable/user_install.html\n",
      "  from .autonotebook import tqdm as notebook_tqdm\n",
      "`torch_dtype` is deprecated! Use `dtype` instead!\n",
      "The `load_in_4bit` and `load_in_8bit` arguments are deprecated and will be removed in the future versions. Please, pass a `BitsAndBytesConfig` object in `quantization_config` argument instead.\n",
      "Loading checkpoint shards: 100%|██████████| 4/4 [00:15<00:00,  3.77s/it]\n"
     ]
    }
   ],
   "source": [
    "from sentence_transformers import SentenceTransformer\n",
    "import torch\n",
    "\n",
    "# Define arguments for 4-bit quantization\n",
    "model_kwargs = {\n",
    "    \"device_map\": \"auto\",         # Automatically map layers to devices (GPU/CPU)\n",
    "    \"torch_dtype\": torch.bfloat16,  # Recommended dtype for Qwen models\n",
    "    \"load_in_4bit\": True,           # Enable 4-bit quantization\n",
    "}\n",
    "\n",
    "# The model card also recommends enabling flash_attention_2 for better performance\n",
    "# You may need to install it: pip install flash-attn\n",
    "# Set use_flash_attention_2=True if available\n",
    "embedding_model = SentenceTransformer(\n",
    "    \"Qwen/Qwen3-Embedding-8B\",\n",
    "    model_kwargs=model_kwargs,\n",
    "    trust_remote_code=True, # Often required for custom model architectures\n",
    "    # use_flash_attention_2=True, # Uncomment if flash-attn is installed\n",
    ")"
   ]
  },
  {
   "cell_type": "code",
   "execution_count": 18,
   "id": "bbaad358",
   "metadata": {},
   "outputs": [],
   "source": [
    "from datasets import load_dataset\n",
    "ds = load_dataset(\"hrithikpiyush/acl-arc\")\n",
    "ds.set_format(\"pandas\")\n",
    "train=ds[\"train\"][:]\n",
    "validation=ds[\"validation\"][:]\n",
    "test=ds[\"test\"][:]"
   ]
  },
  {
   "cell_type": "code",
   "execution_count": 21,
   "id": "4cffd73c",
   "metadata": {},
   "outputs": [],
   "source": [
    "\n",
    "documents = laliste\n",
    "\n",
    "# Encode the queries and documents. Note that queries benefit from using a prompt\n",
    "# Here we use the prompt called \"query\" stored under `model.prompts`, but you can\n",
    "# also pass your own prompt via the `prompt` argument\n",
    "synth_data = torch.from_numpy(embedding_model.encode(documents))\n",
    "validation_data = torch.from_numpy(embedding_model.encode(validation['cleaned_cite_text'].tolist()))\n",
    "test_data = torch.from_numpy(embedding_model.encode(test['cleaned_cite_text'].tolist()))"
   ]
  },
  {
   "cell_type": "code",
   "execution_count": 31,
   "id": "68601ba0",
   "metadata": {},
   "outputs": [],
   "source": [
    "import torch\n",
    "\n",
    "import torch.nn as nn\n",
    "\n",
    "class MLPClassifier(nn.Module):\n",
    "    def __init__(self, input_dim=4096, hidden_dim=128, num_classes=6):\n",
    "        super(MLPClassifier, self).__init__()\n",
    "        self.model = nn.Sequential(\n",
    "            nn.Linear(input_dim, hidden_dim),\n",
    "            nn.ReLU(),\n",
    "            nn.Linear(hidden_dim, hidden_dim),\n",
    "            nn.ReLU(),\n",
    "            nn.Linear(hidden_dim, num_classes)\n",
    "        )\n",
    "\n",
    "    def forward(self, x):\n",
    "        return self.model(x)\n",
    "mymodel = MLPClassifier()\n",
    "criterion = nn.CrossEntropyLoss()\n",
    "optimizer = torch.optim.Adam(mymodel.parameters(), lr=0.001)"
   ]
  },
  {
   "cell_type": "code",
   "execution_count": 15,
   "id": "c9cad6d2",
   "metadata": {},
   "outputs": [
    {
     "data": {
      "text/plain": [
       "tensor([-0.0251, -0.0612, -0.0646, -0.0080, -0.0396, -0.0486],\n",
       "       grad_fn=<ViewBackward0>)"
      ]
     },
     "execution_count": 15,
     "metadata": {},
     "output_type": "execute_result"
    }
   ],
   "source": [
    "mymodel.forward(embeds[0])"
   ]
  },
  {
   "cell_type": "code",
   "execution_count": 29,
   "id": "35964f48",
   "metadata": {},
   "outputs": [],
   "source": [
    "from torch.utils.data import TensorDataset, DataLoader\n",
    "X_train = synth_data\n",
    "y_train = torch.tensor(laliste_labels)\n",
    "\n",
    "batch_size = 32\n",
    "train_dataset = TensorDataset(X_train, y_train)\n",
    "train_loader = DataLoader(dataset=train_dataset, batch_size=batch_size, shuffle=True)"
   ]
  },
  {
   "cell_type": "code",
   "execution_count": null,
   "id": "0b17f67e",
   "metadata": {},
   "outputs": [],
   "source": [
    "num_epochs = 10\n",
    "\n",
    "for epoch in range(num_epochs):\n",
    "    for X_batch, y_batch in train_loader:\n",
    "        optimizer.zero_grad()           # ✅ Reset gradients from previous step\n",
    "        outputs = mymodel(X_batch)        # Forward pass\n",
    "        loss = criterion(outputs, y_batch)\n",
    "        loss.backward()                 # Compute gradients\n",
    "        optimizer.step()                # Update weights\n"
   ]
  },
  {
   "cell_type": "code",
   "execution_count": null,
   "id": "cb675ab8",
   "metadata": {},
   "outputs": [],
   "source": []
  }
 ],
 "metadata": {
  "kernelspec": {
   "display_name": ".venv",
   "language": "python",
   "name": "python3"
  },
  "language_info": {
   "codemirror_mode": {
    "name": "ipython",
    "version": 3
   },
   "file_extension": ".py",
   "mimetype": "text/x-python",
   "name": "python",
   "nbconvert_exporter": "python",
   "pygments_lexer": "ipython3",
   "version": "3.10.12"
  }
 },
 "nbformat": 4,
 "nbformat_minor": 5
}
